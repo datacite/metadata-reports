{
 "cells": [
  {
   "cell_type": "markdown",
   "metadata": {},
   "source": [
    "# Processing metadata"
   ]
  },
  {
   "cell_type": "markdown",
   "metadata": {},
   "source": [
    "- Kristian Garza\n",
    "- kgarza@datacite.org\n",
    "- kjgarza"
   ]
  },
  {
   "cell_type": "code",
   "execution_count": 1,
   "metadata": {},
   "outputs": [
    {
     "name": "stderr",
     "output_type": "stream",
     "text": [
      "\n",
      "Attaching package: ‘dplyr’\n",
      "\n",
      "The following objects are masked from ‘package:stats’:\n",
      "\n",
      "    filter, lag\n",
      "\n",
      "The following objects are masked from ‘package:base’:\n",
      "\n",
      "    intersect, setdiff, setequal, union\n",
      "\n"
     ]
    }
   ],
   "source": [
    "library(jsonlite)\n",
    "library(dplyr)\n",
    "library(stringr)\n",
    "library(httr)\n"
   ]
  },
  {
   "cell_type": "code",
   "execution_count": 2,
   "metadata": {},
   "outputs": [
    {
     "name": "stdout",
     "output_type": "stream",
     "text": [
      "[1] \"../data/2018-10-28_source_crossref_meta.Rda\"\n"
     ]
    }
   ],
   "source": [
    "full_query<-fromJSON(paste0('https://api.datacite.org/events?extra=true&page[size]=0&source-id=crossref&citation-type=dataset-scholarly-article'))\n",
    "meta<-full_query$meta\n",
    "file<-paste0(\"../data/\",Sys.Date(),\"_source_crossref_meta.Rda\")\n",
    "print(file)\n",
    "save(meta,file=file)"
   ]
  },
  {
   "cell_type": "code",
   "execution_count": null,
   "metadata": {},
   "outputs": [],
   "source": []
  },
  {
   "cell_type": "code",
   "execution_count": null,
   "metadata": {},
   "outputs": [],
   "source": []
  },
  {
   "cell_type": "code",
   "execution_count": 3,
   "metadata": {},
   "outputs": [
    {
     "name": "stdout",
     "output_type": "stream",
     "text": [
      "[1] \"../data/2018-10-28_source_datacite-crossref_meta.Rda\"\n"
     ]
    }
   ],
   "source": [
    "full_query<-fromJSON(paste0('https://api.datacite.org/events?extra=true&page[size]=0&source-id=datacite-crossref&citation-type=dataset-scholarly-article'))\n",
    "meta<-full_query$meta\n",
    "file<-paste0(\"../data/\",Sys.Date(),\"_source_datacite-crossref_meta.Rda\")\n",
    "print(file)\n",
    "save(meta,file=file)"
   ]
  },
  {
   "cell_type": "code",
   "execution_count": 4,
   "metadata": {},
   "outputs": [
    {
     "name": "stdout",
     "output_type": "stream",
     "text": [
      "[1] \"../data/2018-10-28_source_datacite-crossref_all_citations_types_meta.Rda\"\n"
     ]
    }
   ],
   "source": [
    "full_query<-fromJSON(paste0('https://api.datacite.org/events?extra=true&page[size]=0&source-id=datacite-crossref'))\n",
    "meta<-full_query$meta\n",
    "file<-paste0(\"../data/\",Sys.Date(),\"_source_datacite-crossref_all_citations_types_meta.Rda\")\n",
    "print(file)\n",
    "save(meta,file=file)"
   ]
  },
  {
   "cell_type": "code",
   "execution_count": 5,
   "metadata": {},
   "outputs": [
    {
     "name": "stdout",
     "output_type": "stream",
     "text": [
      "[1] \"../data/2018-10-28_source_crossref_all_citations_types_meta.Rda\"\n"
     ]
    }
   ],
   "source": [
    "full_query<-fromJSON(paste0('https://api.datacite.org/events?extra=true&page[size]=0&source-id=crossref'))\n",
    "meta<-full_query$meta\n",
    "file<-paste0(\"../data/\",Sys.Date(),\"_source_crossref_all_citations_types_meta.Rda\")\n",
    "print(file)\n",
    "save(meta,file=file)"
   ]
  },
  {
   "cell_type": "code",
   "execution_count": 6,
   "metadata": {},
   "outputs": [
    {
     "name": "stdout",
     "output_type": "stream",
     "text": [
      "[1] \"../data/2018-10-28_source_datacite_all_citations_types_meta.Rda\"\n"
     ]
    }
   ],
   "source": [
    "full_query<-fromJSON(paste0('https://api.datacite.org/events?extra=true&page[size]=0&source-id=datacite-crossref'))\n",
    "meta<-full_query$meta\n",
    "file<-paste0(\"../data/\",Sys.Date(),\"_source_datacite_all_citations_types_meta.Rda\")\n",
    "print(file)\n",
    "save(meta,file=file)"
   ]
  },
  {
   "cell_type": "code",
   "execution_count": 7,
   "metadata": {},
   "outputs": [],
   "source": [
    "# full_query<-fromJSON(paste0('https://api.datacite.org/events?extra=true&page[size]=0&source-id=datacite-usage'))\n",
    "# meta<-full_query$meta\n",
    "# file<-paste0(\"../data/\",Sys.Date(),\"_source_crossref_all_citations_types_meta.Rda\")\n",
    "# print(file)\n",
    "# save(meta,file=file)"
   ]
  },
  {
   "cell_type": "code",
   "execution_count": 8,
   "metadata": {},
   "outputs": [
    {
     "name": "stdout",
     "output_type": "stream",
     "text": [
      "[1] \"../data/2018-10-28_all_meta.Rda\"\n"
     ]
    }
   ],
   "source": [
    "full_query<-fromJSON(paste0('https://api.datacite.org/events?extra=true&page[size]=0'))\n",
    "meta<-full_query$meta\n",
    "file<-paste0(\"../data/\",Sys.Date(),\"_all_meta.Rda\")\n",
    "print(file)\n",
    "save(meta,file=file)"
   ]
  },
  {
   "cell_type": "code",
   "execution_count": 9,
   "metadata": {},
   "outputs": [
    {
     "name": "stdout",
     "output_type": "stream",
     "text": [
      "[1] \"matrix\"\n",
      "[1] \"../data/2018-10-28_crossref_registrants.Rda\"\n"
     ]
    }
   ],
   "source": [
    "full_query<-content(GET(paste0('https://api.crossref.org/members?rows=1000')),\"parsed\")\n",
    "full_query_2<-content(GET(paste0('https://api.crossref.org/members?rows=1000&offset=1000')),\"parsed\")\n",
    "full_query_3<-content(GET(paste0('https://api.crossref.org/members?rows=1000&offset=2000')),\"parsed\")\n",
    "full_query<-rbind(full_query,full_query_2)\n",
    "parsed<-rbind(full_query,full_query_3)\n",
    "# parsed <- content(full_query, \"parsed\")\n",
    "items <-parsed$message$items\n",
    "print(class(parsed))\n",
    "\n",
    "registrants_names<-data.frame(\"registrant_name\"=\"\",\"id\"=\"\", stringsAsFactors = FALSE)\n",
    "\n",
    "\n",
    "for (row in (items)) {\n",
    "    registrant_name <- row$`primary-name`\n",
    "    registrant_id <- row$id\n",
    "    if(is.null(row$`primary-name`)){\n",
    "        registrant_name<-\"\"\n",
    "    }\n",
    "#     registrants_names<-rbind(registrants_names,c(substr(registrant_name,0,13),paste0('crossref.',registrant_id)))\n",
    "    registrants_names<-rbind(registrants_names,c(word(registrant_name, start = -2, end = -1),paste0('crossref.',registrant_id)))\n",
    "\n",
    "}\n",
    "file<-paste0(\"../data/\",Sys.Date(),\"_crossref_registrants.Rda\")\n",
    "print(file)\n",
    "save(registrants_names,file=file)"
   ]
  },
  {
   "cell_type": "code",
   "execution_count": 10,
   "metadata": {},
   "outputs": [
    {
     "name": "stdout",
     "output_type": "stream",
     "text": [
      "NULL\n",
      "[1] \"../data/2018-10-28_datacite_registrants.Rda\"\n"
     ]
    }
   ],
   "source": [
    "full_query<-fromJSON(paste0('https://api.datacite.org/clients?page[size]=1000'))\n",
    "# full_query_2<-fromJSON(paste0('https://api.datacite.org/clients?page[size]=500$page[number]=2'))\n",
    "# full_query<-rbind(full_query,full_query_2)\n",
    "# parsed <- content(full_query, \"parsed\")\n",
    "items <-full_query$data\n",
    "print(nrow(full_query))\n",
    "\n",
    "registrants_names<-data.frame(\"registrant_name\"=\"\",\"id\"=\"\", stringsAsFactors = FALSE)\n",
    "\n",
    "for (row in 1:nrow(items)) { \n",
    "    registrant_name <- (items$attributes$name[row])\n",
    "    registrant_id <- (items$id[row])\n",
    "    if(is.null(items$attributes$name[row])){\n",
    "        registrant_name<-\"\"\n",
    "    }\n",
    "    \n",
    "    registrants_names<-rbind(registrants_names,c(word(registrant_name, start = 1, end = 2),paste0('datacite.',registrant_id)))\n",
    "\n",
    "\n",
    "}\n",
    "file<-paste0(\"../data/\",Sys.Date(),\"_datacite_registrants.Rda\")\n",
    "print(file)\n",
    "save(registrants_names,file=file)"
   ]
  },
  {
   "cell_type": "code",
   "execution_count": 9,
   "metadata": {},
   "outputs": [
    {
     "data": {
      "text/html": [
       "<table>\n",
       "<thead><tr><th scope=col>registrant_name</th><th scope=col>id</th></tr></thead>\n",
       "<tbody>\n",
       "\t<tr><td>                      </td><td>                      </td></tr>\n",
       "\t<tr><td>'Health Monitoring'   </td><td>datacite.gesis.rki    </td></tr>\n",
       "\t<tr><td>027.7 -               </td><td>datacite.ethz.ubasojs </td></tr>\n",
       "\t<tr><td>4TU.Centre for        </td><td>datacite.delft.data4tu</td></tr>\n",
       "\t<tr><td>Aalborg University    </td><td>datacite.dk.aau       </td></tr>\n",
       "\t<tr><td>Aalto University      </td><td>datacite.csc.aalto    </td></tr>\n",
       "</tbody>\n",
       "</table>\n"
      ],
      "text/latex": [
       "\\begin{tabular}{r|ll}\n",
       " registrant\\_name & id\\\\\n",
       "\\hline\n",
       "\t                        &                       \\\\\n",
       "\t 'Health Monitoring'    & datacite.gesis.rki    \\\\\n",
       "\t 027.7 -                & datacite.ethz.ubasojs \\\\\n",
       "\t 4TU.Centre for         & datacite.delft.data4tu\\\\\n",
       "\t Aalborg University     & datacite.dk.aau       \\\\\n",
       "\t Aalto University       & datacite.csc.aalto    \\\\\n",
       "\\end{tabular}\n"
      ],
      "text/markdown": [
       "\n",
       "registrant_name | id | \n",
       "|---|---|---|---|---|---|\n",
       "|                        |                        | \n",
       "| 'Health Monitoring'    | datacite.gesis.rki     | \n",
       "| 027.7 -                | datacite.ethz.ubasojs  | \n",
       "| 4TU.Centre for         | datacite.delft.data4tu | \n",
       "| Aalborg University     | datacite.dk.aau        | \n",
       "| Aalto University       | datacite.csc.aalto     | \n",
       "\n",
       "\n"
      ],
      "text/plain": [
       "  registrant_name     id                    \n",
       "1                                           \n",
       "2 'Health Monitoring' datacite.gesis.rki    \n",
       "3 027.7 -             datacite.ethz.ubasojs \n",
       "4 4TU.Centre for      datacite.delft.data4tu\n",
       "5 Aalborg University  datacite.dk.aau       \n",
       "6 Aalto University    datacite.csc.aalto    "
      ]
     },
     "metadata": {},
     "output_type": "display_data"
    }
   ],
   "source": [
    "head(registrants_names)"
   ]
  },
  {
   "cell_type": "code",
   "execution_count": null,
   "metadata": {},
   "outputs": [],
   "source": []
  }
 ],
 "metadata": {
  "kernelspec": {
   "display_name": "R",
   "language": "R",
   "name": "ir"
  },
  "language_info": {
   "codemirror_mode": "r",
   "file_extension": ".r",
   "mimetype": "text/x-r-source",
   "name": "R",
   "pygments_lexer": "r",
   "version": "3.4.1"
  }
 },
 "nbformat": 4,
 "nbformat_minor": 2
}
