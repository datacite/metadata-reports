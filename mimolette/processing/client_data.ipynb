{
 "cells": [
  {
   "cell_type": "code",
   "execution_count": 1,
   "metadata": {},
   "outputs": [
    {
     "name": "stderr",
     "output_type": "stream",
     "text": [
      "\n",
      "Attaching package: ‘dplyr’\n",
      "\n",
      "The following objects are masked from ‘package:stats’:\n",
      "\n",
      "    filter, lag\n",
      "\n",
      "The following objects are masked from ‘package:base’:\n",
      "\n",
      "    intersect, setdiff, setequal, union\n",
      "\n",
      "\n",
      "Attaching package: ‘reshape’\n",
      "\n",
      "The following objects are masked from ‘package:tidyr’:\n",
      "\n",
      "    expand, smiths\n",
      "\n",
      "The following object is masked from ‘package:dplyr’:\n",
      "\n",
      "    rename\n",
      "\n"
     ]
    }
   ],
   "source": [
    "library(jsonlite)\n",
    "library(dplyr)\n",
    "library(stringr)\n",
    "library(httr)\n",
    "# library(rjson)\n",
    "library(tidyr)\n",
    "library(psych)\n",
    "library(reshape)\n"
   ]
  },
  {
   "cell_type": "code",
   "execution_count": 13,
   "metadata": {},
   "outputs": [
    {
     "data": {
      "text/html": [
       "<table>\n",
       "<thead><tr><th scope=col>id</th><th scope=col>title</th><th scope=col>count</th></tr></thead>\n",
       "<tbody>\n",
       "\t<tr><td>fao.itpgrfa                             </td><td>null                                    </td><td>33584                                   </td></tr>\n",
       "\t<tr><td>dk.gbif                                 </td><td>Global Biodiversity Information Facility</td><td>  426                                   </td></tr>\n",
       "\t<tr><td>ethz.e-manus                            </td><td>e-manuscripta                           </td><td>  418                                   </td></tr>\n",
       "\t<tr><td>osti.dotntl                             </td><td>null                                    </td><td>  397                                   </td></tr>\n",
       "\t<tr><td>spbpu.o-kratkoe                         </td><td>null                                    </td><td>  333                                   </td></tr>\n",
       "\t<tr><td>crui.unile                              </td><td>Università del Salento                  </td><td>  211                                   </td></tr>\n",
       "</tbody>\n",
       "</table>\n"
      ],
      "text/latex": [
       "\\begin{tabular}{r|lll}\n",
       " id & title & count\\\\\n",
       "\\hline\n",
       "\t fao.itpgrfa                              & null                                     & 33584                                   \\\\\n",
       "\t dk.gbif                                  & Global Biodiversity Information Facility &   426                                   \\\\\n",
       "\t ethz.e-manus                             & e-manuscripta                            &   418                                   \\\\\n",
       "\t osti.dotntl                              & null                                     &   397                                   \\\\\n",
       "\t spbpu.o-kratkoe                          & null                                     &   333                                   \\\\\n",
       "\t crui.unile                               & Università del Salento                   &   211                                   \\\\\n",
       "\\end{tabular}\n"
      ],
      "text/markdown": [
       "\n",
       "id | title | count | \n",
       "|---|---|---|---|---|---|\n",
       "| fao.itpgrfa                              | null                                     | 33584                                    | \n",
       "| dk.gbif                                  | Global Biodiversity Information Facility |   426                                    | \n",
       "| ethz.e-manus                             | e-manuscripta                            |   418                                    | \n",
       "| osti.dotntl                              | null                                     |   397                                    | \n",
       "| spbpu.o-kratkoe                          | null                                     |   333                                    | \n",
       "| crui.unile                               | Università del Salento                   |   211                                    | \n",
       "\n",
       "\n"
      ],
      "text/plain": [
       "  id              title                                    count\n",
       "1 fao.itpgrfa     null                                     33584\n",
       "2 dk.gbif         Global Biodiversity Information Facility   426\n",
       "3 ethz.e-manus    e-manuscripta                              418\n",
       "4 osti.dotntl     null                                       397\n",
       "5 spbpu.o-kratkoe null                                       333\n",
       "6 crui.unile      Università del Salento                     211"
      ]
     },
     "metadata": {},
     "output_type": "display_data"
    }
   ],
   "source": [
    "MyData <- read.csv(file=\"../data/clients.json\", header=TRUE, sep=\",\")\n",
    "head(MyData)"
   ]
  },
  {
   "cell_type": "code",
   "execution_count": 15,
   "metadata": {},
   "outputs": [
    {
     "name": "stdout",
     "output_type": "stream",
     "text": [
      "[1] \"support@datacite.org\"\n"
     ]
    }
   ],
   "source": [
    "get_email <-function(id){\n",
    "    client<-fromJSON(paste0('https://api.datacite.org/clients/',id))\n",
    "    return(client$data$attributes$`contact-email`)\n",
    "}\n",
    "print(get_email(\"datacite.datacite\"))"
   ]
  },
  {
   "cell_type": "code",
   "execution_count": 22,
   "metadata": {},
   "outputs": [
    {
     "name": "stdout",
     "output_type": "stream",
     "text": [
      "NULL\n",
      "[1] \"lol\"\n"
     ]
    }
   ],
   "source": [
    "get_total <-function(id){\n",
    "    client<-fromJSON(paste0('https://api.datacite.org/dois?client-id=',id,'&page[size]=1'))\n",
    "    created<-client$meta$created\n",
    "    print(created)\n",
    "    return(\"lol\")\n",
    "}\n",
    "print(get_total(\"dk.gbif\"))"
   ]
  },
  {
   "cell_type": "code",
   "execution_count": 17,
   "metadata": {},
   "outputs": [],
   "source": [
    "clients <- MyData %>% rowwise() %>% mutate(email=get_email(id))"
   ]
  },
  {
   "cell_type": "code",
   "execution_count": 20,
   "metadata": {},
   "outputs": [
    {
     "name": "stdout",
     "output_type": "stream",
     "text": [
      "[1] \"../data/2018-10-25_sclient_list.csv\"\n"
     ]
    }
   ],
   "source": [
    "file<-paste0(\"../data/\",Sys.Date(),\"_sclient_list.csv\")\n",
    "print(file)\n",
    "write.csv(clients,file=file)"
   ]
  },
  {
   "cell_type": "code",
   "execution_count": null,
   "metadata": {},
   "outputs": [],
   "source": []
  }
 ],
 "metadata": {
  "kernelspec": {
   "display_name": "R",
   "language": "R",
   "name": "ir"
  },
  "language_info": {
   "codemirror_mode": "r",
   "file_extension": ".r",
   "mimetype": "text/x-r-source",
   "name": "R",
   "pygments_lexer": "r",
   "version": "3.4.1"
  }
 },
 "nbformat": 4,
 "nbformat_minor": 2
}
