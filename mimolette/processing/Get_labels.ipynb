{
 "cells": [
  {
   "cell_type": "code",
   "execution_count": null,
   "metadata": {},
   "outputs": [],
   "source": [
    "library(jsonlite)\n",
    "library(dplyr)\n",
    "library(stringr)"
   ]
  },
  {
   "cell_type": "code",
   "execution_count": null,
   "metadata": {},
   "outputs": [],
   "source": [
    "get_crossref_registrant<-function(registrant) {\n",
    "    id<-(str_extract(registrant,'(\\\\d{2,6})?$'))\n",
    "    start <- GET(paste0('https://api.crossref.org/members/',id))\n",
    "    parsed <- content(start, \"parsed\")\n",
    "    item <-parsed$message\n",
    "    if(is.null(item$`primary-name`)){\n",
    "        item$`primary-name`<-\"\"\n",
    "    }\n",
    "    return(substr(item$`primary-name`,0,10))\n",
    "}\n",
    "# get_registrant_data(head(registrants,1))\n",
    "get_datacite_registrant<-function(registrant) {\n",
    "    id<-(str_extract(registrant,'([a-z])+\\\\.([a-z])+$'))\n",
    "#     print(registrant)\n",
    "    start <- GET(paste0('https://api.datacite.org/clients/',id))\n",
    "    parsed <- content(start, \"parsed\")\n",
    "    item <-parsed$data\n",
    "#     print(item)\n",
    "    if(is.null(item$attributes$name)){\n",
    "        item$attributes$name<-\"\"\n",
    "    }\n",
    "    return(substr(item$attributes$name,0,13))\n",
    "}\n",
    "# get_registrant_data(head(registrants,1))"
   ]
  },
  {
   "cell_type": "code",
   "execution_count": null,
   "metadata": {},
   "outputs": [],
   "source": [
    "load(\"../data/2018-10-08_registrants_meta.Rda\",verbose=TRUE)\n",
    "regs<-registrants %>% rowwise() %>% mutate(client= get_registrant_data(title))\n",
    "data<-regs\n",
    "file<-paste0(\"../data/\",Sys.Date(),\"_registrants_with_labels.Rda\")\n",
    "print(file)\n",
    "save(data,file=file)"
   ]
  }
 ],
 "metadata": {
  "kernelspec": {
   "display_name": "R",
   "language": "R",
   "name": "ir"
  },
  "language_info": {
   "codemirror_mode": "r",
   "file_extension": ".r",
   "mimetype": "text/x-r-source",
   "name": "R",
   "pygments_lexer": "r",
   "version": "3.4.1"
  }
 },
 "nbformat": 4,
 "nbformat_minor": 2
}
